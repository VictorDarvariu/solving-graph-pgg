{
 "cells": [
  {
   "cell_type": "code",
   "execution_count": null,
   "metadata": {},
   "outputs": [],
   "source": [
    "import os\n",
    "import sys\n",
    "import pandas as pd\n",
    "import seaborn as sns\n",
    "import matplotlib as mpl\n",
    "import matplotlib.pyplot as plt\n",
    "sns.set()\n",
    "\n",
    "module_path = os.path.abspath(os.path.join('..'))\n",
    "if module_path not in sys.path:\n",
    "    sys.path.append(module_path)"
   ]
  },
  {
   "cell_type": "code",
   "execution_count": null,
   "metadata": {
    "scrolled": true
   },
   "outputs": [],
   "source": [
    "from relnet.evaluation.storage import EvaluationStorage\n",
    "from relnet.evaluation.file_paths import FilePaths\n",
    "from relnet.agent.mcts.mcts_agent import MonteCarloTreeSearchAgent\n",
    "\n",
    "\n",
    "exp_ids_ic = ['ggnn_ili_15_ic', 'ggnn_ili_25_ic', 'ggnn_ili_50_ic', 'ggnn_ili_75_ic', 'ggnn_ili_100_ic']\n",
    "exp_ids_hc = ['ggnn_ili_15_hc', 'ggnn_ili_25_hc', 'ggnn_ili_50_hc', 'ggnn_ili_75_hc', 'ggnn_ili_100_hc']\n",
    "\n",
    "\n",
    "all_exp_ids = exp_ids_ic + exp_ids_hc\n",
    "\n",
    "storage = EvaluationStorage()\n",
    "fp = FilePaths('/experiment_data', 'aggregate', setup_directories=False)\n"
   ]
  },
  {
   "cell_type": "code",
   "execution_count": null,
   "metadata": {},
   "outputs": [],
   "source": [
    "for experiment_id in all_exp_ids:\n",
    "    agent_hyperparam_dfs = {}\n",
    "    param_spaces, df = storage.get_hyperparameter_optimisation_data(experiment_id, {}, train_individually=False)\n",
    "\n",
    "    latest_experiment = storage.get_experiment_details(experiment_id)\n",
    "    agent_names = latest_experiment[\"agents\"]\n",
    "    network_generators = latest_experiment[\"network_generators\"]\n",
    "    objective_functions = latest_experiment[\"objective_functions\"]\n",
    "\n",
    "    for agent_name in set(df['agent_name']):\n",
    "        expanded_data = []\n",
    "        for objective_function in objective_functions:\n",
    "            subset = df[(df['agent_name'] == agent_name) & (df['objective_function'] == objective_function)]\n",
    "            subset.drop(columns=['agent_name'])\n",
    "\n",
    "            for idx, row in subset.iterrows():\n",
    "                row_copy = dict(row)\n",
    "                hyperparams_id = row['hyperparams_id']\n",
    "                hyperparams = param_spaces[objective_function][agent_name][hyperparams_id]\n",
    "                row_copy.update(hyperparams)\n",
    "                expanded_data.append(row_copy)\n",
    "\n",
    "        hyp_df = pd.DataFrame(expanded_data).drop(columns=['hyperparams_id'])\n",
    "        agent_hyperparam_dfs[agent_name] = hyp_df\n",
    "\n",
    "    for agent_name in agent_names:\n",
    "        if agent_name not in agent_hyperparam_dfs:\n",
    "            continue\n",
    "        hyperparams_df = agent_hyperparam_dfs[agent_name]\n",
    "\n",
    "        print(set(hyperparams_df.columns))\n",
    "        non_hyp_cols = {\"distance_metric\", \"embedding_method\", \"latent_dim\", \"softmax_temp\", \"avg_reward\", \"network_generator\", \"objective_function\", \"graph_id\", \"agent_name\"}\n",
    "        hyperparam_cols = list(set(hyperparams_df.columns) - non_hyp_cols)\n",
    "        for hyperparam_name in hyperparam_cols:\n",
    "            plt.figure()\n",
    "            title = f\"{agent_name}-{hyperparam_name}-all\"\n",
    "            filename = f\"{experiment_id}-hyperparams-{title}.pdf\"\n",
    "            plt.title(title)\n",
    "            sns.lineplot(data=hyperparams_df, x=hyperparam_name, y=\"avg_reward\")\n",
    "            plt.savefig(fp.figures_dir / filename, bbox_inches='tight')\n",
    "            plt.close()            "
   ]
  },
  {
   "cell_type": "code",
   "execution_count": null,
   "metadata": {},
   "outputs": [],
   "source": []
  }
 ],
 "metadata": {
  "kernelspec": {
   "display_name": "Python 3",
   "language": "python",
   "name": "python3"
  },
  "language_info": {
   "codemirror_mode": {
    "name": "ipython",
    "version": 3
   },
   "file_extension": ".py",
   "mimetype": "text/x-python",
   "name": "python",
   "nbconvert_exporter": "python",
   "pygments_lexer": "ipython3",
   "version": "3.7.3"
  }
 },
 "nbformat": 4,
 "nbformat_minor": 2
}